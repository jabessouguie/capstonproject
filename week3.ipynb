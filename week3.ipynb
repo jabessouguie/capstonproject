{
  "nbformat": 4,
  "nbformat_minor": 0,
  "metadata": {
    "colab": {
      "name": "week3.ipynb",
      "provenance": []
    },
    "kernelspec": {
      "name": "python3",
      "display_name": "Python 3"
    },
    "language_info": {
      "name": "python"
    }
  },
  "cells": [
    {
      "cell_type": "code",
      "metadata": {
        "id": "n30xF7erviLF"
      },
      "source": [
        "import requests\n",
        "from bs4 import BeautifulSoup"
      ],
      "execution_count": 1,
      "outputs": []
    },
    {
      "cell_type": "markdown",
      "metadata": {
        "id": "F9AHWiX_vqCn"
      },
      "source": [
        "retreiving the URL and creating a Beautiful soup object"
      ]
    },
    {
      "cell_type": "code",
      "metadata": {
        "id": "FI3AEyxmu9xC"
      },
      "source": [
        "url = \"https://en.wikipedia.org/wiki/List_of_neighbourhoods_in_Toronto\"\n",
        "\n",
        "data  = requests.get(url).text"
      ],
      "execution_count": 2,
      "outputs": []
    },
    {
      "cell_type": "code",
      "metadata": {
        "id": "xjk8Z38jveR-"
      },
      "source": [
        "soup = BeautifulSoup(data, 'html5lib')"
      ],
      "execution_count": 3,
      "outputs": []
    },
    {
      "cell_type": "markdown",
      "metadata": {
        "id": "7Y2ActR8u7Lm"
      },
      "source": [
        "**Firstly create a list**  \n",
        "\n",
        " **Later after finding the table and table data  create a dictionary called cell having 3 keys PostalCode, Borough and Neighborhood.**\n",
        "\n",
        "**As postal code contains upto 3 characters extract that using tablerow.p.text**\n",
        "\n",
        " **Next use split ,strip and replace functions for getting Borough and Neighborhood information.**.\n",
        "\n",
        " **Append to the list**  \n",
        "\n",
        " **Create a dataframe with list**"
      ]
    },
    {
      "cell_type": "code",
      "metadata": {
        "colab": {
          "base_uri": "https://localhost:8080/",
          "height": 496
        },
        "id": "UqfvSW-c0UTp",
        "outputId": "289f5ca7-ce85-4a99-dabc-f0ade63f0deb"
      },
      "source": [
        "table_contents=[]\n",
        "table=soup.find('table')\n",
        "for row in table.findAll('td'):\n",
        "    cell = {}\n",
        "    if type(row.span) != None :\n",
        "      print(row)\n",
        "      if row.span.text=='Not assigned':\n",
        "          pass\n",
        "      else:\n",
        "          cell['PostalCode'] = row.p.text[:3]\n",
        "          cell['Borough'] = (row.span.text).split('(')[0]\n",
        "          cell['Neighborhood'] = (((((row.span.text).split('(')[1]).strip(')')).replace(' /',',')).replace(')',' ')).strip(' ')\n",
        "          table_contents.append(cell)\n",
        "\n",
        "# print(table_contents)\n",
        "df=pandas.DataFrame(table_contents)\n",
        "df['Borough']=df['Borough'].replace({'Downtown TorontoStn A PO Boxes25 The Esplanade':'Downtown Toronto Stn A',\n",
        "                                             'East TorontoBusiness reply mail Processing Centre969 Eastern':'East Toronto Business',\n",
        "                                             'EtobicokeNorthwest':'Etobicoke Northwest','East YorkEast Toronto':'East York/East Toronto',\n",
        "                                             'MississaugaCanada Post Gateway Processing Centre':'Mississauga'})"
      ],
      "execution_count": 47,
      "outputs": [
        {
          "output_type": "stream",
          "text": [
            "<td style=\"text-align: left; vertical-align: top;\">\n",
            "<ul><li><a href=\"/wiki/Alexandra_Park,_Toronto\" title=\"Alexandra Park, Toronto\">Alexandra Park</a></li>\n",
            "<li><a href=\"/wiki/The_Annex\" title=\"The Annex\">The Annex</a></li>\n",
            "<li><a href=\"/wiki/Baldwin_Village\" title=\"Baldwin Village\">Baldwin Village</a></li>\n",
            "<li><a href=\"/wiki/Cabbagetown,_Toronto\" title=\"Cabbagetown, Toronto\">Cabbagetown</a></li>\n",
            "<li><a href=\"/wiki/CityPlace,_Toronto\" title=\"CityPlace, Toronto\">CityPlace</a></li>\n",
            "<li><a href=\"/wiki/Chinatown,_Toronto\" title=\"Chinatown, Toronto\">Chinatown</a></li>\n",
            "<li><a href=\"/wiki/Church_and_Wellesley\" title=\"Church and Wellesley\">Church and Wellesley</a></li>\n",
            "<li><a href=\"/wiki/Corktown,_Toronto\" title=\"Corktown, Toronto\">Corktown</a></li>\n",
            "<li><a href=\"/wiki/Discovery_District\" title=\"Discovery District\">Discovery District</a></li>\n",
            "<li><a href=\"/wiki/Distillery_District\" title=\"Distillery District\">Distillery District</a></li>\n",
            "<li><a href=\"/wiki/Toronto_Entertainment_District\" title=\"Toronto Entertainment District\">Entertainment District</a></li></ul>\n",
            "<p> \n",
            "</p>\n",
            "</td>\n"
          ],
          "name": "stdout"
        },
        {
          "output_type": "error",
          "ename": "AttributeError",
          "evalue": "ignored",
          "traceback": [
            "\u001b[0;31m---------------------------------------------------------------------------\u001b[0m",
            "\u001b[0;31mAttributeError\u001b[0m                            Traceback (most recent call last)",
            "\u001b[0;32m<ipython-input-47-bdb7b91f09c4>\u001b[0m in \u001b[0;36m<module>\u001b[0;34m()\u001b[0m\n\u001b[1;32m      5\u001b[0m     \u001b[0;32mif\u001b[0m \u001b[0mtype\u001b[0m\u001b[0;34m(\u001b[0m\u001b[0mrow\u001b[0m\u001b[0;34m.\u001b[0m\u001b[0mspan\u001b[0m\u001b[0;34m)\u001b[0m \u001b[0;34m!=\u001b[0m \u001b[0;32mNone\u001b[0m \u001b[0;34m:\u001b[0m\u001b[0;34m\u001b[0m\u001b[0;34m\u001b[0m\u001b[0m\n\u001b[1;32m      6\u001b[0m       \u001b[0mprint\u001b[0m\u001b[0;34m(\u001b[0m\u001b[0mrow\u001b[0m\u001b[0;34m)\u001b[0m\u001b[0;34m\u001b[0m\u001b[0;34m\u001b[0m\u001b[0m\n\u001b[0;32m----> 7\u001b[0;31m       \u001b[0;32mif\u001b[0m \u001b[0mrow\u001b[0m\u001b[0;34m.\u001b[0m\u001b[0mspan\u001b[0m\u001b[0;34m.\u001b[0m\u001b[0mtext\u001b[0m\u001b[0;34m==\u001b[0m\u001b[0;34m'Not assigned'\u001b[0m\u001b[0;34m:\u001b[0m\u001b[0;34m\u001b[0m\u001b[0;34m\u001b[0m\u001b[0m\n\u001b[0m\u001b[1;32m      8\u001b[0m           \u001b[0;32mpass\u001b[0m\u001b[0;34m\u001b[0m\u001b[0;34m\u001b[0m\u001b[0m\n\u001b[1;32m      9\u001b[0m       \u001b[0;32melse\u001b[0m\u001b[0;34m:\u001b[0m\u001b[0;34m\u001b[0m\u001b[0;34m\u001b[0m\u001b[0m\n",
            "\u001b[0;31mAttributeError\u001b[0m: 'NoneType' object has no attribute 'text'"
          ]
        }
      ]
    }
  ]
}